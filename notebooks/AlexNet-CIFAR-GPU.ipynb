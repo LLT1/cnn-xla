{
 "cells": [
  {
   "cell_type": "code",
   "execution_count": null,
   "metadata": {},
   "outputs": [],
   "source": [
    "import os\n",
    "\n",
    "os.chdir('/content')\n",
    "! git init\n",
    "! git remote add -f origin https://github.com/fengredrum/cnn-xla.git\n",
    "! git config core.sparsecheckout true\n",
    "! echo utils.py >> .git/info/sparse-checkout\n",
    "! git pull origin master"
   ]
  },
  {
   "cell_type": "code",
   "execution_count": 5,
   "metadata": {},
   "outputs": [],
   "source": [
    "import torch\n",
    "import torch.nn.functional as F\n",
    "from torch import nn, optim\n",
    "\n",
    "from utils import load_data_cifar_10, train_model\n",
    "from utils import Mish, Swish\n",
    "\n",
    "if torch.cuda.is_available():\n",
    "    device = torch.device('cuda')\n",
    "    print(torch.cuda.get_device_name(0))\n",
    "else:\n",
    "    device = torch.device('cpu')"
   ]
  },
  {
   "cell_type": "code",
   "execution_count": 58,
   "metadata": {},
   "outputs": [],
   "source": [
    "class AlexNet(nn.Module):\n",
    "    def __init__(self, activation='relu', num_classes=10):\n",
    "        super(AlexNet, self).__init__()\n",
    "\n",
    "        if activation == 'relu':\n",
    "            self.activation = nn.ReLU()\n",
    "        elif activation == 'mish':\n",
    "            self.activation = Mish()\n",
    "        elif activation == 'swish':\n",
    "            self.activation = Swish()\n",
    "        else:\n",
    "            raise NotImplementedError\n",
    "\n",
    "        # Convolutional part.\n",
    "        # It's different from the original implementation cause the image size of CIFAR dataset is 32x32.\n",
    "        self.conv = nn.Sequential(\n",
    "            nn.Conv2d(3, 96, kernel_size=5, stride=1), self.activation,\n",
    "            nn.MaxPool2d(kernel_size=3, stride=1),\n",
    "            nn.Conv2d(96, 256, kernel_size=5, stride=1,\n",
    "                      padding=2), self.activation,\n",
    "            nn.MaxPool2d(kernel_size=3, stride=2),\n",
    "            nn.Conv2d(256, 384, kernel_size=3, stride=1,\n",
    "                      padding=1), self.activation,\n",
    "            nn.Conv2d(384, 384, kernel_size=3, stride=1,\n",
    "                      padding=1), self.activation,\n",
    "            nn.Conv2d(384, 256, kernel_size=3, stride=1, padding=1),\n",
    "            self.activation, nn.MaxPool2d(kernel_size=3, stride=2))\n",
    "        # Fully connected part\n",
    "        self.fc = nn.Sequential(nn.Linear(256 * 5 * 5, 4096), self.activation,\n",
    "                                nn.Dropout(0.5), nn.Linear(4096, 4096),\n",
    "                                self.activation, nn.Dropout(0.5),\n",
    "                                nn.Linear(4096, num_classes))\n",
    "\n",
    "    def forward(self, x):\n",
    "        out = self.conv(x)\n",
    "        out = torch.flatten(out, 1)\n",
    "        out = self.fc(out)\n",
    "        return out\n",
    "\n",
    "\n",
    "net = AlexNet(activation='mish')"
   ]
  },
  {
   "cell_type": "code",
   "execution_count": null,
   "metadata": {},
   "outputs": [],
   "source": [
    "batch_size, lr, num_epochs = 256, 0.01, 20\n",
    "\n",
    "train_iter, test_iter = load_data_cifar_10(batch_size)\n",
    "optimizer = optim.Adam(net.parameters(), lr=lr)\n",
    "scheduler = optim.lr_scheduler.StepLR(optimizer, step_size=10, gamma=0.1)\n",
    "train_model(net, train_iter, test_iter, batch_size, optimizer, scheduler,\n",
    "            device, num_epochs)"
   ]
  },
  {
   "cell_type": "code",
   "execution_count": null,
   "metadata": {},
   "outputs": [],
   "source": [
    "# Start tensorboard.\n",
    "%load_ext tensorboard\n",
    "%tensorboard --logdir runs/"
   ]
  }
 ],
 "metadata": {
  "kernelspec": {
   "display_name": "Python 3",
   "language": "python",
   "name": "python3"
  },
  "language_info": {
   "codemirror_mode": {
    "name": "ipython",
    "version": 3
   },
   "file_extension": ".py",
   "mimetype": "text/x-python",
   "name": "python",
   "nbconvert_exporter": "python",
   "pygments_lexer": "ipython3",
   "version": "3.7.7"
  }
 },
 "nbformat": 4,
 "nbformat_minor": 4
}
