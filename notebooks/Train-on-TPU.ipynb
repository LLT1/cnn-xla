{
 "cells": [
  {
   "cell_type": "code",
   "execution_count": null,
   "metadata": {},
   "outputs": [],
   "source": [
    "import os\n",
    "assert os.environ[\n",
    "    'COLAB_TPU_ADDR'], 'Make sure to select TPU from Edit > Notebook settings > Hardware accelerator'"
   ]
  },
  {
   "cell_type": "code",
   "execution_count": null,
   "metadata": {},
   "outputs": [],
   "source": [
    "VERSION = \"1.5\"  #@param [\"1.5\" , \"20200325\", \"nightly\"]\n",
    "!curl https://raw.githubusercontent.com/pytorch/xla/master/contrib/scripts/env-setup.py -o pytorch-xla-env-setup.py\n",
    "!python pytorch-xla-env-setup.py --version $VERSION"
   ]
  },
  {
   "cell_type": "code",
   "execution_count": null,
   "metadata": {},
   "outputs": [],
   "source": [
    "import os\n",
    "\n",
    "! git clone https://github.com/fengredrum/cnn-xla.git\n",
    "os.chdir('cnn-xla')"
   ]
  },
  {
   "cell_type": "code",
   "execution_count": null,
   "metadata": {},
   "outputs": [],
   "source": [
    "import torch\n",
    "import torch.nn as nn\n",
    "import torch.nn.functional as F\n",
    "\n",
    "import torch_xla\n",
    "import torch_xla.distributed.xla_multiprocessing as xmp\n",
    "import torch_xla.utils.utils as xu\n",
    "\n",
    "from utils import load_data_cifar_10, train_model_xla\n",
    "from models import alexnet, resnet18, densenet18"
   ]
  },
  {
   "cell_type": "code",
   "execution_count": null,
   "metadata": {},
   "outputs": [],
   "source": [
    "model_name = \"alexnet\"  #@param [\"alexnet\", \"resnet\", \"densenet\"]\n",
    "\n",
    "activation = \"mish\"  #@param [\"relu\", \"swish\", \"mish\"]\n",
    "\n",
    "batch_size = 256  #@param {type:\"integer\"}\n",
    "\n",
    "lr = 0.01  #@param {type:\"number\"}\n",
    "\n",
    "num_epochs = 20  #@param {type:\"integer\"}"
   ]
  },
  {
   "cell_type": "code",
   "execution_count": null,
   "metadata": {},
   "outputs": [],
   "source": [
    "# Define Parameters\n",
    "FLAGS = {}\n",
    "FLAGS['batch_size'] = batch_size\n",
    "FLAGS['lr'] = lr\n",
    "FLAGS['num_epochs'] = num_epochs\n",
    "FLAGS['num_cores'] = 8"
   ]
  },
  {
   "cell_type": "code",
   "execution_count": null,
   "metadata": {},
   "outputs": [],
   "source": [
    "# Start training processes\n",
    "def _mp_fn(rank, flags):\n",
    "    global FLAGS\n",
    "    FLAGS = flags\n",
    "    torch.set_default_tensor_type('torch.FloatTensor')\n",
    "    if model_name == 'alexnet':\n",
    "        net = alexnet(activation=activation)\n",
    "    elif model_name == 'resnet':\n",
    "        net = resnet18([2, 2, 2, 2], activation=activation)\n",
    "    elif model_name == 'densenet':\n",
    "        net = densenet18([4, 4, 4, 4], activation=activation)\n",
    "    else:\n",
    "        raise NotImplementedError\n",
    "    accuracy, data, pred, target = train_model_xla(net, FLAGS['batch_size'],\n",
    "                                                   FLAGS['lr'],\n",
    "                                                   FLAGS['num_epochs'])\n",
    "\n",
    "\n",
    "xmp.spawn(_mp_fn,\n",
    "          args=(FLAGS, ),\n",
    "          nprocs=FLAGS['num_cores'],\n",
    "          start_method='fork')"
   ]
  }
 ],
 "metadata": {
  "kernelspec": {
   "display_name": "Python 3",
   "language": "python",
   "name": "python3"
  },
  "language_info": {
   "codemirror_mode": {
    "name": "ipython",
    "version": 3
   },
   "file_extension": ".py",
   "mimetype": "text/x-python",
   "name": "python",
   "nbconvert_exporter": "python",
   "pygments_lexer": "ipython3",
   "version": "3.7.7"
  }
 },
 "nbformat": 4,
 "nbformat_minor": 4
}