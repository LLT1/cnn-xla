{
 "cells": [
  {
   "cell_type": "code",
   "execution_count": null,
   "metadata": {},
   "outputs": [],
   "source": [
    "import os\n",
    "\n",
    "! git clone https://github.com/fengredrum/cnn-xla.git\n",
    "os.chdir('cnn-xla')"
   ]
  },
  {
   "cell_type": "code",
   "execution_count": null,
   "metadata": {},
   "outputs": [],
   "source": [
    "import torch\n",
    "import torch.nn.functional as F\n",
    "from torch import nn, optim\n",
    "\n",
    "from utils import load_data_cifar_10, train_model\n",
    "from models.alexnet import alexnet\n",
    "from models.vgg import vgg11\n",
    "from models.resnet import resnet18\n",
    "from models.densenet import densenet121\n",
    "from models.se_resnet import se_resnet_50\n",
    "from models.mobilenet_v1 import mobilenet_v1\n",
    "from models.mobilenet_v2 import mobilenet_v2\n",
    "\n",
    "\n",
    "if torch.cuda.is_available():\n",
    "    device = torch.device('cuda')\n",
    "    print(torch.cuda.get_device_name(0))\n",
    "else:\n",
    "    device = torch.device('cpu')"
   ]
  },
  {
   "cell_type": "code",
   "execution_count": null,
   "metadata": {},
   "outputs": [],
   "source": [
    "model_name = \"alexnet\"  #@param [\"alexnet\", \"vgg\", \"resnet\", \"densenet\", \"se-resnet\", \"mobilenet-v1\", \"mobilenet-v2\"]\n",
    "\n",
    "activation = \"mish\"  #@param [\"relu\", \"relu6\", \"swish\", \"mish\"]\n",
    "\n",
    "batch_size = 256  #@param {type:\"integer\"}\n",
    "\n",
    "lr = 0.001  #@param {type:\"number\"}\n",
    "\n",
    "num_epochs = 20  #@param {type:\"integer\"}\n",
    "\n",
    "if model_name == 'alexnet':\n",
    "    net = alexnet(activation=activation)\n",
    "elif model_name == 'vgg':\n",
    "    net = vgg11(activation=activation)\n",
    "elif model_name == 'resnet':\n",
    "    net = resnet18(activation=activation)\n",
    "elif model_name == 'densenet':\n",
    "    net = densenet121(activation=activation)\n",
    "elif model_name == 'se-resnet':\n",
    "    net = se_resnet_50(activation=activation)\n",
    "elif model_name == 'mobilenet-v1':\n",
    "    net = mobilenet_v1(activation=activation, width_multiplier=1.)\n",
    "elif model_name == 'mobilenet-v2':\n",
    "    net = mobilenet_v2(activation=activation, width_multiplier=1.4)\n",
    "else:\n",
    "    raise NotImplementedError"
   ]
  },
  {
   "cell_type": "code",
   "execution_count": null,
   "metadata": {},
   "outputs": [],
   "source": [
    "train_iter, test_iter = load_data_cifar_10(batch_size)\n",
    "optimizer = optim.Adam(net.parameters(), lr=lr)\n",
    "scheduler = optim.lr_scheduler.StepLR(optimizer, step_size=10, gamma=0.1)\n",
    "train_model(net, train_iter, test_iter, batch_size, optimizer, scheduler,\n",
    "            device, num_epochs, comment='-' + model_name + '-' + activation)"
   ]
  },
  {
   "cell_type": "code",
   "execution_count": null,
   "metadata": {},
   "outputs": [],
   "source": [
    "# Start tensorboard.\n",
    "%load_ext tensorboard\n",
    "%tensorboard --logdir runs/"
   ]
  }
 ],
 "metadata": {
  "kernelspec": {
   "display_name": "Python 3",
   "language": "python",
   "name": "python3"
  },
  "language_info": {
   "codemirror_mode": {
    "name": "ipython",
    "version": 3
   },
   "file_extension": ".py",
   "mimetype": "text/x-python",
   "name": "python",
   "nbconvert_exporter": "python",
   "pygments_lexer": "ipython3",
   "version": "3.7.7"
  }
 },
 "nbformat": 4,
 "nbformat_minor": 4
}