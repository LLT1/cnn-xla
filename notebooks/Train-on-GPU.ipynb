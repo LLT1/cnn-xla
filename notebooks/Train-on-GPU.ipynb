{
 "cells": [
  {
   "cell_type": "code",
   "execution_count": null,
   "metadata": {},
   "outputs": [],
   "source": [
    "import os\n",
    "\n",
    "! git clone https://github.com/fengredrum/cnn-xla.git\n",
    "os.chdir('cnn-xla')"
   ]
  },
  {
   "cell_type": "code",
   "execution_count": null,
   "metadata": {},
   "outputs": [],
   "source": [
    "import torch\n",
    "import torch.nn.functional as F\n",
    "from torch import nn, optim\n",
    "\n",
    "from models import alexnet, resnet18, densenet18\n",
    "from utils import load_data_cifar_10, train_model\n",
    "\n",
    "if torch.cuda.is_available():\n",
    "    device = torch.device('cuda')\n",
    "    print(torch.cuda.get_device_name(0))\n",
    "else:\n",
    "    device = torch.device('cpu')"
   ]
  },
  {
   "cell_type": "code",
   "execution_count": null,
   "metadata": {},
   "outputs": [],
   "source": [
    "model_name = \"alexnet\"  #@param [\"alexnet\", \"resnet\", \"densenet\"]\n",
    "\n",
    "activation = \"mish\"  #@param [\"relu\", \"swish\", \"mish\"]\n",
    "\n",
    "batch_size = 256  #@param {type:\"integer\"}\n",
    "\n",
    "lr = 0.01  #@param {type:\"number\"}\n",
    "\n",
    "num_epochs = 20  #@param {type:\"integer\"}\n",
    "\n",
    "if model_name == 'alexnet':\n",
    "    net = alexnet(activation='mish')\n",
    "elif model_name == 'resnet':\n",
    "    net = resnet18([2, 2, 2, 2], activation='mish')\n",
    "elif model_name == 'densenet':\n",
    "    net = densenet18([4, 4, 4, 4], activation='mish')\n",
    "else:\n",
    "    raise NotImplementedError"
   ]
  },
  {
   "cell_type": "code",
   "execution_count": null,
   "metadata": {},
   "outputs": [],
   "source": [
    "train_iter, test_iter = load_data_cifar_10(batch_size)\n",
    "optimizer = optim.Adam(net.parameters(), lr=lr)\n",
    "scheduler = optim.lr_scheduler.StepLR(optimizer, step_size=10, gamma=0.1)\n",
    "train_model(net, train_iter, test_iter, batch_size, optimizer, scheduler,\n",
    "            device, num_epochs)"
   ]
  },
  {
   "cell_type": "code",
   "execution_count": null,
   "metadata": {},
   "outputs": [],
   "source": [
    "# Start tensorboard.\n",
    "%load_ext tensorboard\n",
    "%tensorboard --logdir runs/"
   ]
  }
 ],
 "metadata": {
  "kernelspec": {
   "display_name": "Python 3",
   "language": "python",
   "name": "python3"
  },
  "language_info": {
   "codemirror_mode": {
    "name": "ipython",
    "version": 3
   },
   "file_extension": ".py",
   "mimetype": "text/x-python",
   "name": "python",
   "nbconvert_exporter": "python",
   "pygments_lexer": "ipython3",
   "version": "3.7.7"
  }
 },
 "nbformat": 4,
 "nbformat_minor": 4
}
