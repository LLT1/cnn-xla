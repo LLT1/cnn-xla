{
 "cells": [
  {
   "cell_type": "code",
   "execution_count": null,
   "metadata": {},
   "outputs": [],
   "source": [
    "import os\n",
    "assert os.environ[\n",
    "    'COLAB_TPU_ADDR'], 'Make sure to select TPU from Edit > Notebook settings > Hardware accelerator'"
   ]
  },
  {
   "cell_type": "code",
   "execution_count": null,
   "metadata": {},
   "outputs": [],
   "source": [
    "VERSION = \"1.5\"  #@param [\"1.5\" , \"20200325\", \"nightly\"]\n",
    "!curl https://raw.githubusercontent.com/pytorch/xla/master/contrib/scripts/env-setup.py -o pytorch-xla-env-setup.py\n",
    "!python pytorch-xla-env-setup.py --version $VERSION"
   ]
  },
  {
   "cell_type": "code",
   "execution_count": null,
   "metadata": {},
   "outputs": [],
   "source": [
    "os.chdir('/content')\n",
    "! git init\n",
    "! git remote add -f origin https://github.com/fengredrum/cnn-xla.git\n",
    "! git config core.sparsecheckout true\n",
    "! echo utils.py >> .git/info/sparse-checkout\n",
    "! git pull origin master"
   ]
  },
  {
   "cell_type": "code",
   "execution_count": null,
   "metadata": {},
   "outputs": [],
   "source": [
    "import torch\n",
    "import torch.nn as nn\n",
    "import torch.nn.functional as F\n",
    "\n",
    "import torch_xla\n",
    "import torch_xla.distributed.xla_multiprocessing as xmp\n",
    "import torch_xla.utils.utils as xu\n",
    "\n",
    "from utils import train_model_xla\n",
    "from utils import Mish, Swish"
   ]
  },
  {
   "cell_type": "code",
   "execution_count": null,
   "metadata": {},
   "outputs": [],
   "source": [
    "class AlexNet(nn.Module):\n",
    "    def __init__(self, activation='relu', num_classes=10):\n",
    "        super(AlexNet, self).__init__()\n",
    "\n",
    "        if activation == 'relu':\n",
    "            self.activation = nn.ReLU()\n",
    "        elif activation == 'mish':\n",
    "            self.activation = Mish()\n",
    "        elif activation == 'swish':\n",
    "            self.activation = Swish()\n",
    "        else:\n",
    "            raise NotImplementedError\n",
    "\n",
    "        # Convolutional part.\n",
    "        # It's different from the original implementation cause the image size of CIFAR dataset is 32x32.\n",
    "        self.conv = nn.Sequential(\n",
    "            nn.Conv2d(3, 96, kernel_size=5, stride=1), self.activation,\n",
    "            nn.MaxPool2d(kernel_size=3, stride=1),\n",
    "            nn.Conv2d(96, 256, kernel_size=5, stride=1,\n",
    "                      padding=2), self.activation,\n",
    "            nn.MaxPool2d(kernel_size=3, stride=2),\n",
    "            nn.Conv2d(256, 384, kernel_size=3, stride=1,\n",
    "                      padding=1), self.activation,\n",
    "            nn.Conv2d(384, 384, kernel_size=3, stride=1,\n",
    "                      padding=1), self.activation,\n",
    "            nn.Conv2d(384, 256, kernel_size=3, stride=1, padding=1),\n",
    "            self.activation, nn.MaxPool2d(kernel_size=3, stride=2))\n",
    "        # Fully connected part\n",
    "        self.fc = nn.Sequential(nn.Linear(256 * 5 * 5, 4096), self.activation,\n",
    "                                nn.Dropout(0.5), nn.Linear(4096, 4096),\n",
    "                                self.activation, nn.Dropout(0.5),\n",
    "                                nn.Linear(4096, num_classes))\n",
    "\n",
    "    def forward(self, x):\n",
    "        out = self.conv(x)\n",
    "        out = torch.flatten(out, 1)\n",
    "        out = self.fc(out)\n",
    "        return out"
   ]
  },
  {
   "cell_type": "code",
   "execution_count": null,
   "metadata": {},
   "outputs": [],
   "source": [
    "# Define Parameters\n",
    "FLAGS = {}\n",
    "FLAGS['batch_size'] = 256\n",
    "FLAGS['lr'] = 0.02\n",
    "FLAGS['num_epochs'] = 20\n",
    "FLAGS['num_cores'] = 8"
   ]
  },
  {
   "cell_type": "code",
   "execution_count": null,
   "metadata": {},
   "outputs": [],
   "source": [
    "# Start training processes\n",
    "def _mp_fn(rank, flags):\n",
    "    global FLAGS\n",
    "    FLAGS = flags\n",
    "    torch.set_default_tensor_type('torch.FloatTensor')\n",
    "    net = AlexNet(activation='mish')\n",
    "    accuracy, data, pred, target = train_model_xla(net, FLAGS['batch_size'],\n",
    "                                                   FLAGS['lr'],\n",
    "                                                   FLAGS['num_epochs'])\n",
    "\n",
    "\n",
    "xmp.spawn(_mp_fn,\n",
    "          args=(FLAGS, ),\n",
    "          nprocs=FLAGS['num_cores'],\n",
    "          start_method='fork')"
   ]
  }
 ],
 "metadata": {
  "kernelspec": {
   "display_name": "Python 3",
   "language": "python",
   "name": "python3"
  },
  "language_info": {
   "codemirror_mode": {
    "name": "ipython",
    "version": 3
   },
   "file_extension": ".py",
   "mimetype": "text/x-python",
   "name": "python",
   "nbconvert_exporter": "python",
   "pygments_lexer": "ipython3",
   "version": "3.7.7"
  }
 },
 "nbformat": 4,
 "nbformat_minor": 4
}
